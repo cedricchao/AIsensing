{
 "cells": [
  {
   "cell_type": "code",
   "execution_count": 1,
   "metadata": {},
   "outputs": [],
   "source": [
    "import numpy as np"
   ]
  },
  {
   "cell_type": "code",
   "execution_count": 11,
   "metadata": {},
   "outputs": [],
   "source": [
    "import tensorflow as tf"
   ]
  },
  {
   "cell_type": "code",
   "execution_count": 4,
   "metadata": {},
   "outputs": [
    {
     "name": "stderr",
     "output_type": "stream",
     "text": [
      "2024-07-05 18:57:24.769737: I tensorflow/core/util/port.cc:111] oneDNN custom operations are on. You may see slightly different numerical results due to floating-point round-off errors from different computation orders. To turn them off, set the environment variable `TF_ENABLE_ONEDNN_OPTS=0`.\n",
      "2024-07-05 18:57:24.790312: E tensorflow/compiler/xla/stream_executor/cuda/cuda_dnn.cc:9342] Unable to register cuDNN factory: Attempting to register factory for plugin cuDNN when one has already been registered\n",
      "2024-07-05 18:57:24.790333: E tensorflow/compiler/xla/stream_executor/cuda/cuda_fft.cc:609] Unable to register cuFFT factory: Attempting to register factory for plugin cuFFT when one has already been registered\n",
      "2024-07-05 18:57:24.790347: E tensorflow/compiler/xla/stream_executor/cuda/cuda_blas.cc:1518] Unable to register cuBLAS factory: Attempting to register factory for plugin cuBLAS when one has already been registered\n",
      "2024-07-05 18:57:24.794403: I tensorflow/core/platform/cpu_feature_guard.cc:182] This TensorFlow binary is optimized to use available CPU instructions in performance-critical operations.\n",
      "To enable the following instructions: AVX2 AVX_VNNI FMA, in other operations, rebuild TensorFlow with the appropriate compiler flags.\n",
      "2024-07-05 18:57:25.644473: I tensorflow/compiler/xla/stream_executor/cuda/cuda_gpu_executor.cc:894] successful NUMA node read from SysFS had negative value (-1), but there must be at least one NUMA node, so returning NUMA node zero. See more at https://github.com/torvalds/linux/blob/v6.0/Documentation/ABI/testing/sysfs-bus-pci#L344-L355\n",
      "2024-07-05 18:57:25.647189: I tensorflow/compiler/xla/stream_executor/cuda/cuda_gpu_executor.cc:894] successful NUMA node read from SysFS had negative value (-1), but there must be at least one NUMA node, so returning NUMA node zero. See more at https://github.com/torvalds/linux/blob/v6.0/Documentation/ABI/testing/sysfs-bus-pci#L344-L355\n",
      "2024-07-05 18:57:25.647286: I tensorflow/compiler/xla/stream_executor/cuda/cuda_gpu_executor.cc:894] successful NUMA node read from SysFS had negative value (-1), but there must be at least one NUMA node, so returning NUMA node zero. See more at https://github.com/torvalds/linux/blob/v6.0/Documentation/ABI/testing/sysfs-bus-pci#L344-L355\n",
      "2024-07-05 18:57:25.648193: I tensorflow/compiler/xla/stream_executor/cuda/cuda_gpu_executor.cc:894] successful NUMA node read from SysFS had negative value (-1), but there must be at least one NUMA node, so returning NUMA node zero. See more at https://github.com/torvalds/linux/blob/v6.0/Documentation/ABI/testing/sysfs-bus-pci#L344-L355\n",
      "2024-07-05 18:57:25.648273: I tensorflow/compiler/xla/stream_executor/cuda/cuda_gpu_executor.cc:894] successful NUMA node read from SysFS had negative value (-1), but there must be at least one NUMA node, so returning NUMA node zero. See more at https://github.com/torvalds/linux/blob/v6.0/Documentation/ABI/testing/sysfs-bus-pci#L344-L355\n",
      "2024-07-05 18:57:25.648331: I tensorflow/compiler/xla/stream_executor/cuda/cuda_gpu_executor.cc:894] successful NUMA node read from SysFS had negative value (-1), but there must be at least one NUMA node, so returning NUMA node zero. See more at https://github.com/torvalds/linux/blob/v6.0/Documentation/ABI/testing/sysfs-bus-pci#L344-L355\n",
      "2024-07-05 18:57:25.697930: I tensorflow/compiler/xla/stream_executor/cuda/cuda_gpu_executor.cc:894] successful NUMA node read from SysFS had negative value (-1), but there must be at least one NUMA node, so returning NUMA node zero. See more at https://github.com/torvalds/linux/blob/v6.0/Documentation/ABI/testing/sysfs-bus-pci#L344-L355\n",
      "2024-07-05 18:57:25.698029: I tensorflow/compiler/xla/stream_executor/cuda/cuda_gpu_executor.cc:894] successful NUMA node read from SysFS had negative value (-1), but there must be at least one NUMA node, so returning NUMA node zero. See more at https://github.com/torvalds/linux/blob/v6.0/Documentation/ABI/testing/sysfs-bus-pci#L344-L355\n",
      "2024-07-05 18:57:25.698099: I tensorflow/compiler/xla/stream_executor/cuda/cuda_gpu_executor.cc:894] successful NUMA node read from SysFS had negative value (-1), but there must be at least one NUMA node, so returning NUMA node zero. See more at https://github.com/torvalds/linux/blob/v6.0/Documentation/ABI/testing/sysfs-bus-pci#L344-L355\n",
      "2024-07-05 18:57:25.698157: I tensorflow/core/common_runtime/gpu/gpu_device.cc:1886] Created device /job:localhost/replica:0/task:0/device:GPU:0 with 9511 MB memory:  -> device: 0, name: NVIDIA TITAN V, pci bus id: 0000:01:00.0, compute capability: 7.0\n"
     ]
    }
   ],
   "source": [
    "deepmimo_ofdm_saved_ebno5 = np.load(\"../data/deepmimo_ofdm_saved_ebno5.npy\", allow_pickle=True)\n",
    "saved_data = deepmimo_ofdm_saved_ebno5.item()"
   ]
  },
  {
   "cell_type": "code",
   "execution_count": 13,
   "metadata": {},
   "outputs": [
    {
     "name": "stdout",
     "output_type": "stream",
     "text": [
      "channeltype: ofdm\n",
      "channeldataset: deepmimo\n",
      "fft_size: 76\n",
      "batch_size: 64\n",
      "num_ofdm_symbols: 14\n",
      "num_bits_per_symbol: 2\n",
      "pilot_pattern: kronecker\n",
      "scenario: O1_60\n",
      "dataset_folder: data/DeepMIMO\n",
      "num_ut: 1\n",
      "num_bs: 1\n",
      "num_ut_ant: 1\n",
      "num_bs_ant: 16\n",
      "direction: uplink\n",
      "num_streams_per_tx: 1\n",
      "cyclic_prefix_length: 6\n",
      "num_guard_carriers: [5, 6]\n",
      "pilot_ofdm_symbol_indices: [2, 11]\n",
      "frequencies's shape: (76,)\n",
      "coderate: 1\n",
      "k: 1536\n",
      "n: 1536\n",
      "no: 0.0015811388147994876\n",
      "h_b's shape: (64, 1, 1, 1, 16, 10, 1)\n",
      "tau_b's shape: (64, 1, 1, 10)\n",
      "h_out's shape: (64, 1, 1, 1, 16, 1, 76)\n",
      "y's shape: (64, 1, 1, 14, 76)\n",
      "x_rg's shape: (64, 1, 1, 14, 76)\n",
      "b's shape: (64, 1, 1, 1536)\n",
      "x_hat's shape: (64, 1, 1, 768)\n",
      "no_eff: 0.014866507612168789\n",
      "h_hat tensor's shape: (64, 1, 1, 1, 1, 14, 64)\n",
      "err_var tensor's shape: (1, 1, 1, 1, 1, 14, 64)\n",
      "h_perfect's shape: (64, 1, 1, 1, 16, 1, 64)\n",
      "err_var_perfect: 0.0\n",
      "b_hat's shape: (64, 1, 1, 1536)\n",
      "llr_est's shape: (64, 1, 1, 1536)\n",
      "BER: 0.0013427734375\n"
     ]
    }
   ],
   "source": [
    "for k, v in saved_data.items():\n",
    "    if isinstance(v, np.ndarray):\n",
    "        print(f\"{k}'s shape: {v.shape}\")\n",
    "    elif isinstance(v, tf.Tensor):\n",
    "        print(f\"{k} tensor's shape: {v.shape}\")\n",
    "    else:\n",
    "        print(f\"{k}: {v}\")"
   ]
  },
  {
   "cell_type": "code",
   "execution_count": 15,
   "metadata": {},
   "outputs": [
    {
     "name": "stdout",
     "output_type": "stream",
     "text": [
      "channeltype: ofdm\n",
      "channeldataset: cdl\n",
      "fft_size: 76\n",
      "batch_size: 64\n",
      "num_ofdm_symbols: 14\n",
      "num_bits_per_symbol: 4\n",
      "pilot_pattern: kronecker\n",
      "scenario: O1_60\n",
      "dataset_folder: data/DeepMIMO\n",
      "num_ut: 1\n",
      "num_bs: 1\n",
      "num_ut_ant: 2\n",
      "num_bs_ant: 16\n",
      "direction: uplink\n",
      "num_streams_per_tx: 2\n",
      "cyclic_prefix_length: 6\n",
      "num_guard_carriers: [5, 6]\n",
      "pilot_ofdm_symbol_indices: [2, 11]\n",
      "frequencies's shape: (76,)\n",
      "coderate: 1\n",
      "k: 3072\n",
      "n: 3072\n",
      "no: 0.07905694097280502\n",
      "h_b's shape: (64, 1, 16, 1, 2, 23, 14)\n",
      "tau_b's shape: (64, 1, 1, 23)\n",
      "h_out's shape: (64, 1, 16, 1, 2, 14, 76)\n",
      "y's shape: (64, 1, 16, 14, 76)\n",
      "x_rg's shape: (64, 1, 2, 14, 76)\n",
      "b's shape: (64, 1, 2, 3072)\n",
      "x_hat's shape: (64, 1, 2, 768)\n",
      "no_eff: 0.00581008568406105\n",
      "h_hat tensor's shape: (64, 1, 16, 1, 2, 14, 64)\n",
      "err_var: 0.0\n",
      "h_perfect's shape: (64,)\n",
      "err_var_perfect: 0.0\n",
      "b_hat's shape: (64, 1, 2, 3072)\n",
      "llr_est's shape: (64, 1, 2, 3072)\n",
      "BER: 0.00035858154296875\n"
     ]
    }
   ],
   "source": [
    "deepmimo_ofdm_saved_ebno5 = np.load(\"../data/cdl_ofdm_saved_ebno5.npy\", allow_pickle=True)\n",
    "saved_data = deepmimo_ofdm_saved_ebno5.item()\n",
    "for k, v in saved_data.items():\n",
    "    if isinstance(v, np.ndarray):\n",
    "        print(f\"{k}'s shape: {v.shape}\")\n",
    "    elif isinstance(v, tf.Tensor):\n",
    "        print(f\"{k} tensor's shape: {v.shape}\")\n",
    "    else:\n",
    "        print(f\"{k}: {v}\")"
   ]
  },
  {
   "cell_type": "code",
   "execution_count": 10,
   "metadata": {},
   "outputs": [
    {
     "data": {
      "text/plain": [
       "TensorShape([64, 1, 1, 1, 1, 14, 64])"
      ]
     },
     "execution_count": 10,
     "metadata": {},
     "output_type": "execute_result"
    }
   ],
   "source": [
    "saved_data['h_hat'].shape"
   ]
  },
  {
   "cell_type": "code",
   "execution_count": 5,
   "metadata": {},
   "outputs": [
    {
     "data": {
      "text/plain": [
       "1"
      ]
     },
     "execution_count": 5,
     "metadata": {},
     "output_type": "execute_result"
    }
   ],
   "source": [
    "saved_data['channeldataset']\n",
    "saved_data['fft_size']\n",
    "saved_data['batch_size']\n",
    "saved_data['num_ofdm_symbols']\n",
    "saved_data['num_bits_per_symbol']\n",
    "saved_data['pilot_pattern']\n",
    "saved_data['scenario']\n",
    "saved_data['dataset_folder']\n",
    "saved_data['num_ut']\n",
    "saved_data['num_bs']\n",
    "saved_data['num_ut_ant']\n",
    "saved_data['num_bs_ant']\n",
    "saved_data['direction']\n",
    "saved_data['num_streams_per_tx']\n",
    "saved_data['cyclic_prefix_length']\n",
    "saved_data['num_guard_carriers']\n",
    "saved_data['pilot_ofdm_symbol_indices']\n",
    "saved_data['frequencies']\n",
    "saved_data['coderate']"
   ]
  },
  {
   "cell_type": "code",
   "execution_count": null,
   "metadata": {},
   "outputs": [],
   "source": [
    "saved_data['k'] #num of information per codeword\n",
    "saved_data['n'] # Codeword length n = int(RESOURCE_GRID.num_data_symbols * num_bits_per_symbol) #num_data_symbols: if empty 1064*4=4256, else, 768*4=3072\n",
    "saved_data['no']\n",
    "saved_data['h_b']\n",
    "saved_data['tau_b']\n",
    "saved_data['h_out']\n",
    "saved_data['y']\n",
    "saved_data['x_rg']\n",
    "saved_data['b']\n",
    "saved_data['x_hat']\n",
    "saved_data['no_eff']\n",
    "saved_data['h_hat']\n",
    "saved_data['err_var']\n",
    "saved_data['h_perfect']\n",
    "saved_data['err_var_perfect']\n",
    "saved_data['b_hat']\n",
    "saved_data['llr_est']\n",
    "saved_data['BER']"
   ]
  },
  {
   "cell_type": "code",
   "execution_count": 14,
   "metadata": {},
   "outputs": [
    {
     "data": {
      "text/plain": [
       "0.0013427734375"
      ]
     },
     "execution_count": 14,
     "metadata": {},
     "output_type": "execute_result"
    }
   ],
   "source": [
    "saved_data['BER']"
   ]
  },
  {
   "cell_type": "code",
   "execution_count": 56,
   "metadata": {},
   "outputs": [],
   "source": [
    "deepmimo_ofdm_saved_ebno5 = np.load(\"../data/deepmimo_ofdm_saved_ebno5.npy\", allow_pickle=True)\n",
    "saved_data = deepmimo_ofdm_saved_ebno5.item()"
   ]
  },
  {
   "cell_type": "code",
   "execution_count": 57,
   "metadata": {},
   "outputs": [],
   "source": [
    "from sionna.channel import ApplyOFDMChannel"
   ]
  },
  {
   "cell_type": "code",
   "execution_count": 58,
   "metadata": {},
   "outputs": [],
   "source": [
    "applychannel = ApplyOFDMChannel(add_awgn=True)\n",
    "no=saved_data['no']\n",
    "x_rg=saved_data['x_rg']\n",
    "h_out=saved_data['h_out']\n",
    "x_rg = tf.convert_to_tensor(x_rg)\n",
    "h_out = tf.convert_to_tensor(h_out)\n",
    "y = applychannel([x_rg, h_out, no])"
   ]
  },
  {
   "cell_type": "code",
   "execution_count": 59,
   "metadata": {},
   "outputs": [
    {
     "data": {
      "text/plain": [
       "TensorShape([64, 1, 1, 14, 76])"
      ]
     },
     "execution_count": 59,
     "metadata": {},
     "output_type": "execute_result"
    }
   ],
   "source": [
    "y.shape"
   ]
  },
  {
   "cell_type": "code",
   "execution_count": 60,
   "metadata": {},
   "outputs": [
    {
     "data": {
      "text/plain": [
       "(64, 1, 1, 14, 76)"
      ]
     },
     "execution_count": 60,
     "metadata": {},
     "output_type": "execute_result"
    }
   ],
   "source": [
    "saved_data['y'].shape"
   ]
  },
  {
   "cell_type": "code",
   "execution_count": 61,
   "metadata": {},
   "outputs": [
    {
     "name": "stdout",
     "output_type": "stream",
     "text": [
      "False\n"
     ]
    }
   ],
   "source": [
    "print(np.allclose(y.numpy(), saved_data['y']))"
   ]
  },
  {
   "cell_type": "code",
   "execution_count": 62,
   "metadata": {},
   "outputs": [],
   "source": [
    "from deepMIMO5 import MyApplyOFDMChannel\n",
    "applychannel = MyApplyOFDMChannel(add_awgn=True)\n",
    "no=saved_data['no']\n",
    "x_rg=saved_data['x_rg']\n",
    "h_out=saved_data['h_out']\n",
    "y_new = applychannel([x_rg, h_out, no])"
   ]
  },
  {
   "cell_type": "code",
   "execution_count": 63,
   "metadata": {},
   "outputs": [
    {
     "data": {
      "text/plain": [
       "(64, 1, 1, 14, 76)"
      ]
     },
     "execution_count": 63,
     "metadata": {},
     "output_type": "execute_result"
    }
   ],
   "source": [
    "y_new.shape"
   ]
  },
  {
   "cell_type": "code",
   "execution_count": 46,
   "metadata": {},
   "outputs": [
    {
     "data": {
      "text/plain": [
       "0.0015811388"
      ]
     },
     "execution_count": 46,
     "metadata": {},
     "output_type": "execute_result"
    }
   ],
   "source": [
    "no"
   ]
  },
  {
   "cell_type": "code",
   "execution_count": 53,
   "metadata": {},
   "outputs": [
    {
     "name": "stdout",
     "output_type": "stream",
     "text": [
      "False\n"
     ]
    }
   ],
   "source": [
    "print(np.allclose(y.numpy(), y_new))"
   ]
  },
  {
   "cell_type": "code",
   "execution_count": 54,
   "metadata": {},
   "outputs": [
    {
     "name": "stdout",
     "output_type": "stream",
     "text": [
      "False\n"
     ]
    }
   ],
   "source": [
    "print(np.allclose(saved_data['y'][0,0,0,0,0], y_new[0,0,0,0,0]))"
   ]
  },
  {
   "cell_type": "code",
   "execution_count": 35,
   "metadata": {},
   "outputs": [
    {
     "data": {
      "text/plain": [
       "array([ 2.03168709e-02+0.11700358j, -4.06768799e-01-0.26666856j,\n",
       "        3.30204785e-01+0.09554211j,  4.04325165e-02+0.04351137j,\n",
       "        1.38410896e-01-0.01744035j,  2.45295048e+00+0.43048292j,\n",
       "        1.92821085e+00-0.86021435j,  2.02049208e+00+0.8810813j ,\n",
       "       -1.47539294e+00+1.9188901j ,  2.93634176e-01+2.0670385j ,\n",
       "       -2.20647168e+00-0.9696499j ,  1.06408334e+00-1.5318238j ,\n",
       "       -3.42593610e-01+0.62594295j, -6.65850222e-01+1.3997688j ,\n",
       "        1.99814916e+00-0.14700948j,  1.22798264e-01-0.0585698j ,\n",
       "        3.49165738e-01+0.5556712j ,  1.44528306e+00-0.5658079j ,\n",
       "       -1.66148365e+00+0.9021003j , -6.72954857e-01-0.2886604j ,\n",
       "       -1.46427727e+00+0.62561846j,  9.03467238e-01+0.61966383j,\n",
       "       -4.14557964e-01+1.0580639j ,  3.28744084e-01+0.26826182j,\n",
       "        1.08918977e+00-0.7049992j ,  1.65248728e+00+0.14777519j,\n",
       "        6.30522609e-01-0.5497206j , -6.72628522e-01-1.1814688j ,\n",
       "        1.81101695e-01+1.9248066j , -3.41105759e-01+0.71832716j,\n",
       "        4.72803116e-02-1.4142168j ,  6.04501724e-01-0.15748957j,\n",
       "        4.89102781e-01+0.28750926j, -6.82659388e-01-0.22161679j,\n",
       "       -2.29133320e+00-0.39136177j,  2.35331154e+00+1.4053651j ,\n",
       "       -1.26320612e+00+1.821264j  ,  6.95267200e-01+0.6830658j ,\n",
       "        2.61284888e-01+0.08755854j,  2.24843144e+00+0.8891157j ,\n",
       "        3.41523218e+00+0.10234068j, -2.21777248e+00+0.39711437j,\n",
       "       -1.88515320e-01+0.61447793j,  8.09118986e-01+1.5211041j ,\n",
       "       -2.22375721e-01-1.8524116j ,  2.62187809e-01-0.59587246j,\n",
       "       -6.32599235e-01-0.8284131j , -1.12823248e+00+1.9123653j ,\n",
       "       -6.05703056e-01-0.36557823j,  1.39953589e+00-2.2429917j ,\n",
       "       -7.48458654e-02-1.8412391j ,  7.04460263e-01-1.2461563j ,\n",
       "        8.80620837e-01+1.2501873j , -1.14008331e+00-1.7297801j ,\n",
       "        3.24122280e-01+0.18000525j, -8.17873478e-01+0.90169245j,\n",
       "        3.31715941e-01+0.24750805j,  8.37451458e-01+0.66920567j,\n",
       "       -3.38988602e-02-1.2176921j , -8.84748757e-01+0.5578271j ,\n",
       "       -1.93045765e-01-0.83693784j,  1.09800160e+00-0.93688095j,\n",
       "        1.03096259e+00+1.2235204j ,  6.39142394e-02-0.71639866j,\n",
       "       -1.29297864e+00-0.86844164j, -6.62395000e-01+1.0556252j ,\n",
       "        2.28689730e-01+1.0412545j ,  1.71424299e-01+0.2549098j ,\n",
       "        1.37594318e+00-0.8176767j ,  1.29711759e+00-0.23888545j,\n",
       "       -4.85724956e-02-0.17300124j, -3.90062965e-02+0.15123802j,\n",
       "       -9.22195986e-02+0.05874718j,  4.50798459e-02+0.09811474j,\n",
       "       -2.04886898e-01+0.0142165j ,  3.35792033e-03-0.21620417j],\n",
       "      dtype=complex64)"
      ]
     },
     "execution_count": 35,
     "metadata": {},
     "output_type": "execute_result"
    }
   ],
   "source": [
    "saved_data['y'][0,0,0,0,:]"
   ]
  },
  {
   "cell_type": "code",
   "execution_count": 36,
   "metadata": {},
   "outputs": [
    {
     "data": {
      "text/plain": [
       "array([-0.03991484-0.38937676j,  0.09912405+0.06895108j,\n",
       "       -0.03455912-0.11664158j, -0.02885672-0.1889352j ,\n",
       "       -0.02840974-0.10515035j,  2.4424355 -0.11060016j,\n",
       "        2.0707    -0.6941113j ,  2.29967   +0.6702544j ,\n",
       "       -1.0845194 +1.9152354j , -0.32267714+1.7442445j ,\n",
       "       -2.4240248 -0.7291124j ,  1.3686078 -1.8178126j ,\n",
       "       -0.7891866 +0.26212424j, -1.0389568 +1.0723753j ,\n",
       "        2.4458723 -0.21682803j,  0.22644097+0.04370978j,\n",
       "        0.1890844 +0.09104568j,  1.5922419 -0.640265j  ,\n",
       "       -1.4608622 +0.4012045j , -1.3675193 -0.11177567j,\n",
       "       -1.2281973 +0.49456668j,  0.85097283+0.70656294j,\n",
       "       -0.5787529 +0.74675345j,  0.28142354-0.25295836j,\n",
       "        0.9684461 -0.5685219j ,  1.4828781 +0.5124516j ,\n",
       "       -0.01968686-0.45028728j, -0.7074252 -1.151564j  ,\n",
       "        0.20987149+2.3038802j , -0.37644294+0.70845145j,\n",
       "       -0.38741502-1.3197747j ,  0.50141245+0.21639943j,\n",
       "        0.71397   +0.08600387j, -0.38363189-0.35575998j,\n",
       "       -2.4235537 -0.24373747j,  2.1495414 +1.3028789j ,\n",
       "       -0.9155779 +1.7762954j ,  0.4455171 +0.8959146j ,\n",
       "       -0.0700333 -0.21742296j,  1.7794899 +0.99861443j,\n",
       "        3.4480572 -0.04224089j, -2.45986   +0.34826425j,\n",
       "       -0.03393938+0.26992264j,  0.92100495+1.93417j   ,\n",
       "        0.22363213-2.183893j  ,  0.16588512-0.8703958j ,\n",
       "       -0.6693139 -0.6484887j , -1.1770072 +1.7593201j ,\n",
       "       -1.005943  -0.29528868j,  1.7526258 -2.043724j  ,\n",
       "       -0.06742625-1.6541228j ,  0.7126392 -1.1195889j ,\n",
       "        1.1694658 +1.3007318j , -1.1746944 -1.659393j  ,\n",
       "        0.8093784 -0.24620599j, -0.5527812 +1.0835328j ,\n",
       "        0.3521821 +0.05604427j,  1.4746103 +0.61773366j,\n",
       "        0.47303244-1.2751907j , -1.0289674 +0.6370467j ,\n",
       "       -0.39921096-0.77492714j,  1.505338  -0.5241299j ,\n",
       "        0.8182285 +1.2008995j ,  0.05517757-0.74251324j,\n",
       "       -1.8681875 -1.0496857j , -1.0594531 +0.7212933j ,\n",
       "        0.04637048+1.1864768j ,  0.5793729 +0.2165704j ,\n",
       "        1.469595  -1.0055547j ,  1.3268733 +0.14069346j,\n",
       "       -0.24415311+0.08043648j, -0.25007004+0.03154192j,\n",
       "        0.1764172 -0.2811219j ,  0.2089064 -0.12828301j,\n",
       "       -0.07490789-0.22786279j,  0.2199774 +0.4632554j ], dtype=complex64)"
      ]
     },
     "execution_count": 36,
     "metadata": {},
     "output_type": "execute_result"
    }
   ],
   "source": [
    "y_new[0,0,0,0,:]"
   ]
  },
  {
   "cell_type": "code",
   "execution_count": 55,
   "metadata": {},
   "outputs": [
    {
     "data": {
      "text/plain": [
       "(64, 1, 1, 14, 76)"
      ]
     },
     "execution_count": 55,
     "metadata": {},
     "output_type": "execute_result"
    }
   ],
   "source": [
    "saved_data['y'].shape"
   ]
  }
 ],
 "metadata": {
  "kernelspec": {
   "display_name": "py310cu118",
   "language": "python",
   "name": "python3"
  },
  "language_info": {
   "codemirror_mode": {
    "name": "ipython",
    "version": 3
   },
   "file_extension": ".py",
   "mimetype": "text/x-python",
   "name": "python",
   "nbconvert_exporter": "python",
   "pygments_lexer": "ipython3",
   "version": "3.10.14"
  }
 },
 "nbformat": 4,
 "nbformat_minor": 2
}
